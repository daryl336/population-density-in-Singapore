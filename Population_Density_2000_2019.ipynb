{
 "cells": [
  {
   "cell_type": "markdown",
   "metadata": {},
   "source": [
    "######\n",
    "1) For Jun 2000, Planning Areas refer to areas demarcated in the Urban Redevelopment Authority's Master Plan 1998.\n",
    "2) For Jun 2001 to 2010, Planning Areas refer to areas demarcated in the Urban Redevelopment Authority's Master Plan 2008.\n",
    "3) For Jun 2011 to 2018, Planning Areas refer to areas demarcated in the Urban Redevelopment Authority's Master Plan 2014.\n",
    "4) Data from 2003 onwards exclude residents who have been away from Singapore for a continuous period of 12 months or longer as at the reference period.\n",
    "5) The figures have been rounded to the nearest 10.\n",
    "6) The data may not add up due to rounding."
   ]
  },
  {
   "cell_type": "code",
   "execution_count": 25,
   "metadata": {},
   "outputs": [],
   "source": [
    "import os\n",
    "import json\n",
    "import pandas as pd\n",
    "import geopandas as gpd\n",
    "\n",
    "os.chdir(\"/Users/DarylTay/Desktop/Python/data/population-density\")"
   ]
  },
  {
   "cell_type": "code",
   "execution_count": 26,
   "metadata": {},
   "outputs": [],
   "source": [
    "### 2000 - 2004\n",
    "\n",
    "old_df = pd.read_csv('singapore-residents-by-planning-area-subzone-age-group-and-sex-june-2000-onwards.csv')\n",
    "old_df = old_df[['planning_area','resident_count','year']]\n",
    "\n",
    "# Exclude 2005 as 2005 data does not have some locations\n",
    "result = old_df.groupby(['planning_area','year'],as_index = False)[['resident_count']].sum()\n",
    "result = result.loc[~(result['year']==2005)]\n",
    "result.columns = ['planning area','year','total']\n",
    "result['planning area'] = result['planning area'].str.upper()\n",
    "#result"
   ]
  },
  {
   "cell_type": "code",
   "execution_count": 27,
   "metadata": {},
   "outputs": [],
   "source": [
    "### 2005 - 2010\n",
    "df_shape = gpd.read_file('PLAN_BDY_AGE_GENDER_2005.shp')[['PLN_AREA_N','TOTAL']]\n",
    "df_shape['year'] = ['2005' for i in range(df_shape.shape[0])]\n",
    "\n",
    "for year in range(2006,2011):\n",
    "    df = gpd.read_file('PLAN_BDY_AGE_GENDER_' + str(year) + '.shp')[['PLN_AREA_N','TOTAL']]\n",
    "    df['year'] = [str(year) for i in range(df.shape[0])]\n",
    "    #print(str(year) + str(df.shape))\n",
    "    df_shape = pd.concat([df_shape,df])\n",
    "\n",
    "df_shape.columns = ['planning area','total','year']\n",
    "total = list(df_shape['total'])\n",
    "df_shape = df_shape[['planning area','year']]\n",
    "df_shape['total'] = total\n",
    "#df_shape"
   ]
  },
  {
   "cell_type": "code",
   "execution_count": 28,
   "metadata": {},
   "outputs": [],
   "source": [
    "### 2011 - 2019 \n",
    "df2 = pd.read_csv('planning-area-subzone-age-group-sex-and-type-of-dwelling-june-2011-2019.csv')\n",
    "result2 = df2.groupby(['planning_area','year',],as_index = False)[['resident_count']].sum()\n",
    "result2.columns = ['planning area','year','total']\n",
    "result2['planning area'] = result2['planning area'].str.upper()\n",
    "#result2"
   ]
  },
  {
   "cell_type": "code",
   "execution_count": 29,
   "metadata": {},
   "outputs": [],
   "source": [
    "## Concatenate all together\n",
    "\n",
    "final_df = pd.concat([result,df_shape,result2])\n",
    "export = final_df.to_excel('population count 2000 - 2019.xlsx')"
   ]
  },
  {
   "cell_type": "code",
   "execution_count": 30,
   "metadata": {},
   "outputs": [],
   "source": [
    "### importing of base map\n",
    "\n",
    "map_year = ['98','08','14']\n",
    "\n",
    "map_98 = gpd.read_file('MP98_PLNG_AREA_NO_SEA_PL.shp')\n",
    "map_08 = gpd.read_file('MP08_PLNG_AREA_NO_SEA_PL.shp')\n",
    "map_14 = gpd.read_file('MP14_PLNG_AREA_NO_SEA_PL.shp')\n",
    "\n",
    "map_98.to_excel('map_98.xlsx')\n",
    "map_08.to_excel('map_08.xlsx')\n",
    "map_14.to_excel('map_14.xlsx')"
   ]
  },
  {
   "cell_type": "code",
   "execution_count": 31,
   "metadata": {},
   "outputs": [
    {
     "name": "stderr",
     "output_type": "stream",
     "text": [
      "WARNING:bokeh.embed.util:\n",
      "You are generating standalone HTML/JS output, but trying to use real Python\n",
      "callbacks (i.e. with on_change or on_event). This combination cannot work.\n",
      "\n",
      "Only JavaScript callbacks may be used with standalone output. For more\n",
      "information on JavaScript callbacks with Bokeh, see:\n",
      "\n",
      "    https://docs.bokeh.org/en/latest/docs/user_guide/interaction/callbacks.html\n",
      "\n",
      "Alternatively, to use real Python callbacks, a Bokeh server application may\n",
      "be used. For more information on building and running Bokeh applications, see:\n",
      "\n",
      "    https://docs.bokeh.org/en/latest/docs/user_guide/server.html\n",
      "\n"
     ]
    }
   ],
   "source": [
    "from bokeh.io import output_notebook, show, curdoc\n",
    "from bokeh.plotting import figure, output_file\n",
    "from bokeh.models import GeoJSONDataSource, LinearColorMapper, ColorBar, Slider, HoverTool\n",
    "from bokeh.palettes import brewer\n",
    "from bokeh.layouts import widgetbox, row, column\n",
    "\n",
    "#Define function that returns json_data for year selected by user.\n",
    "start_year = 2019\n",
    "\n",
    "def json_data(selectedYear):\n",
    "    if selectedYear == 2000:\n",
    "        final_df_yr = final_df[final_df['year'] == selectedYear]\n",
    "        plot = map_98.merge(final_df_yr, left_on = 'PLN_AREA_N', right_on = 'planning area')\n",
    "        merged_json = json.loads(plot.to_json())\n",
    "        json_data = json.dumps(merged_json)\n",
    "    elif 2001 <= selectedYear <= 2010:\n",
    "        final_df_yr = final_df[final_df['year'] == selectedYear]\n",
    "        plot = map_08.merge(final_df_yr, left_on = 'PLN_AREA_N', right_on = 'planning area')\n",
    "        merged_json = json.loads(plot.to_json())\n",
    "        json_data = json.dumps(merged_json)\n",
    "    elif selectedYear >=2011:\n",
    "        final_df_yr = final_df[final_df['year'] == selectedYear]\n",
    "        plot = map_14.merge(final_df_yr, left_on = 'PLN_AREA_N', right_on = 'planning area')\n",
    "        merged_json = json.loads(plot.to_json())\n",
    "        json_data = json.dumps(merged_json)\n",
    "    return json_data\n",
    "\n",
    "#Input GeoJSON source that contains features for plotting.\n",
    "geosource = GeoJSONDataSource(geojson = json_data(start_year))\n",
    "\n",
    "#Define a sequential multi-hue color palette.\n",
    "palette = brewer['YlGnBu'][6]\n",
    "\n",
    "#Reverse color order so that dark blue is highest obesity.\n",
    "palette = palette[::-1]\n",
    "\n",
    "#Instantiate LinearColorMapper that linearly maps numbers in a range, into a sequence of colors. Input nan_color.\n",
    "color_mapper = LinearColorMapper(palette = palette, low = 0, high = 300000)\n",
    "\n",
    "#Define custom tick labels for color bar.\n",
    "tick_labels = {'1': '< 5,000', '2': '5,000 - < 10,000', '3':'10,000 - < 50,000', '4':'50,000 - < 100,000', '5':'100,000 - < 150,000', '6':'150,000 - < 200,000', '7':'200,000 - < 250,000','8':'250,000 - < 300,000'}\n",
    "\n",
    "#Add hover tool\n",
    "hover = HoverTool(tooltips = [ ('Region','@PLN_AREA_N'),('Population Count', '@total')])\n",
    "\n",
    "#Create color bar. \n",
    "color_bar = ColorBar(color_mapper=color_mapper, label_standoff=6,width = 500, height = 20,\n",
    "                     border_line_color=None,location = (0,0), orientation = 'horizontal', major_label_overrides = tick_labels)\n",
    "#Create figure object.\n",
    "p = figure(title = 'Population Density of Singapore, '+str(start_year), plot_height = 600 , plot_width = 950, toolbar_location = None,tools = [hover])\n",
    "p.xgrid.grid_line_color = None\n",
    "p.ygrid.grid_line_color = None\n",
    "p.xaxis.visible = False\n",
    "p.yaxis.visible = False\n",
    "\n",
    "#Add patch renderer to figure. \n",
    "p.patches('xs','ys', source = geosource,fill_color = {'field' :'total', 'transform' : color_mapper},\n",
    "          line_color = 'black', line_width = 0.25, fill_alpha = 1)\n",
    "\n",
    "#Specify layout\n",
    "p.add_layout(color_bar, 'below')\n",
    "\n",
    "# Define the callback function: update_plot\n",
    "def update_plot(attr, old, new):\n",
    "    yr = slider.value\n",
    "    new_data = json_data(yr)\n",
    "    geosource.geojson = new_data\n",
    "    p.title.text = 'Population Density of Singapore, %d' %yr\n",
    "    \n",
    "# Make a slider\n",
    "slider = Slider(title = 'Year',start = 2000, end = 2019, step = 1, value = start_year)\n",
    "slider.on_change('value', update_plot)\n",
    "\n",
    "# Make a column layout of widgetbox(slider) and plot, and add it to the current document\n",
    "layout = column(p,widgetbox(slider))\n",
    "curdoc().add_root(layout)\n",
    "\n",
    "#Display the plot\n",
    "show(layout)"
   ]
  },
  {
   "cell_type": "markdown",
   "metadata": {},
   "source": [
    "######\n",
    "Note that the plot does not update when you change slider value in your Jupyter Notebook. To view this application in interactive mode you need to set up a local Bokeh server. Open a command line window in your current directory and execute bokeh serve --show filename.ipynb command."
   ]
  }
 ],
 "metadata": {
  "kernelspec": {
   "display_name": "Python 3",
   "language": "python",
   "name": "python3"
  },
  "language_info": {
   "codemirror_mode": {
    "name": "ipython",
    "version": 3
   },
   "file_extension": ".py",
   "mimetype": "text/x-python",
   "name": "python",
   "nbconvert_exporter": "python",
   "pygments_lexer": "ipython3",
   "version": "3.7.6"
  }
 },
 "nbformat": 4,
 "nbformat_minor": 4
}
